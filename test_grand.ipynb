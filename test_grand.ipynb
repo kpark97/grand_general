{
 "cells": [
  {
   "cell_type": "code",
   "execution_count": 1,
   "metadata": {},
   "outputs": [
    {
     "name": "stderr",
     "output_type": "stream",
     "text": [
      "Warning on use of the timeseries module: If the inherent timescales of the system are long compared to those being analyzed, this statistical inefficiency may be an underestimate.  The estimate presumes the use of many statistically independent samples.  Tests should be performed to assess whether this condition is satisfied.   Be cautious in the interpretation of the data.\n",
      "\n",
      "****** PyMBAR will use 64-bit JAX! *******\n",
      "* JAX is currently set to 32-bit bitsize *\n",
      "* which is its default.                  *\n",
      "*                                        *\n",
      "* PyMBAR requires 64-bit mode and WILL   *\n",
      "* enable JAX's 64-bit mode when called.  *\n",
      "*                                        *\n",
      "* This MAY cause problems with other     *\n",
      "* Uses of JAX in the same code.          *\n",
      "******************************************\n",
      "\n",
      "Warning: importing 'simtk.openmm' is deprecated.  Import 'openmm' instead.\n"
     ]
    }
   ],
   "source": [
    "import grand\n",
    "import numpy as np\n",
    "import scipy as sp"
   ]
  },
  {
   "cell_type": "code",
   "execution_count": 2,
   "metadata": {},
   "outputs": [],
   "source": [
    "from simtk.openmm.app import *\n",
    "from simtk.openmm import *\n",
    "from simtk.unit import *\n",
    "from openff.toolkit import ForceField, Molecule, unit"
   ]
  },
  {
   "cell_type": "code",
   "execution_count": 3,
   "metadata": {},
   "outputs": [],
   "source": [
    "import rdkit"
   ]
  },
  {
   "cell_type": "code",
   "execution_count": 4,
   "metadata": {},
   "outputs": [],
   "source": [
    "# Load in a water box PDB...\n",
    "pdb = PDBFile('./examples/water/water_box-eq.pdb')\n",
    "\n",
    "# Add ghost waters,\n",
    "pdb.topology, pdb.positions, ghosts = grand.utils.add_ghosts(pdb.topology,\n",
    "                                                             pdb.positions,\n",
    "                                                             n=10,\n",
    "                                                             pdb='water-ghosts.pdb')"
   ]
  },
  {
   "cell_type": "code",
   "execution_count": 6,
   "metadata": {},
   "outputs": [],
   "source": [
    "molecule = Molecule.from_smiles('Cc1ccccc1')"
   ]
  },
  {
   "cell_type": "code",
   "execution_count": 8,
   "metadata": {},
   "outputs": [
    {
     "data": {
      "text/plain": [
       "<openff.toolkit.topology.topology.Topology at 0x3225ac4d0>"
      ]
     },
     "execution_count": 8,
     "metadata": {},
     "output_type": "execute_result"
    }
   ],
   "source": [
    "molecule.to_topology()"
   ]
  },
  {
   "cell_type": "code",
   "execution_count": 9,
   "metadata": {},
   "outputs": [
    {
     "data": {
      "text/plain": [
       "<openff.toolkit.typing.engines.smirnoff.forcefield.ForceField at 0x321d7be90>"
      ]
     },
     "execution_count": 9,
     "metadata": {},
     "output_type": "execute_result"
    }
   ],
   "source": [
    "ForceField('Am',\"openff-2.0.0.offxml\")"
   ]
  },
  {
   "cell_type": "code",
   "execution_count": 4,
   "metadata": {},
   "outputs": [],
   "source": [
    "molecules = Molecule.from_file('phenol.sdf', file_foramat='sdf')"
   ]
  },
  {
   "cell_type": "code",
   "execution_count": 8,
   "metadata": {},
   "outputs": [
    {
     "data": {
      "text/plain": [
       "['_cached_smiles',\n",
       " '_ordered_connection_table_hash',\n",
       " '_name',\n",
       " '_atoms',\n",
       " '_bonds',\n",
       " '_properties',\n",
       " '_partial_charges',\n",
       " '_conformers',\n",
       " '_hill_formula',\n",
       " '_hierarchy_schemes',\n",
       " '_propers',\n",
       " '_impropers',\n",
       " '__module__',\n",
       " '__doc__',\n",
       " '__init__',\n",
       " 'add_atom',\n",
       " 'add_bond',\n",
       " 'add_conformer',\n",
       " 'visualize',\n",
       " 'perceive_residues',\n",
       " '_ipython_display_',\n",
       " '__abstractmethods__',\n",
       " '_abc_impl',\n",
       " '__annotations__',\n",
       " 'has_unique_atom_names',\n",
       " 'generate_unique_atom_names',\n",
       " '_validate',\n",
       " 'strip_atom_stereochemistry',\n",
       " 'to_dict',\n",
       " '__hash__',\n",
       " 'ordered_connection_table_hash',\n",
       " 'from_dict',\n",
       " '_initialize_from_dict',\n",
       " '__repr__',\n",
       " '_initialize',\n",
       " '_copy_initializer',\n",
       " '__eq__',\n",
       " '__deepcopy__',\n",
       " 'add_default_hierarchy_schemes',\n",
       " '_add_chain_hierarchy_scheme',\n",
       " '_add_residue_hierarchy_scheme',\n",
       " 'add_hierarchy_scheme',\n",
       " 'hierarchy_schemes',\n",
       " 'delete_hierarchy_scheme',\n",
       " 'update_hierarchy_schemes',\n",
       " '__getattr__',\n",
       " '__dir__',\n",
       " 'to_smiles',\n",
       " 'from_inchi',\n",
       " 'to_inchi',\n",
       " 'to_inchikey',\n",
       " 'from_smiles',\n",
       " '_is_exactly_the_same_as',\n",
       " 'are_isomorphic',\n",
       " 'is_isomorphic_with',\n",
       " 'generate_conformers',\n",
       " '_make_carboxylic_acids_cis',\n",
       " 'apply_elf_conformer_selection',\n",
       " 'get_available_charge_methods',\n",
       " 'assign_partial_charges',\n",
       " '_normalize_partial_charges',\n",
       " 'assign_fractional_bond_orders',\n",
       " '_invalidate_cached_properties',\n",
       " 'to_networkx',\n",
       " 'find_rotatable_bonds',\n",
       " '_add_atom',\n",
       " '_add_bond',\n",
       " '_add_conformer',\n",
       " 'partial_charges',\n",
       " 'n_atoms',\n",
       " 'n_bonds',\n",
       " 'n_angles',\n",
       " 'n_propers',\n",
       " 'n_impropers',\n",
       " 'atoms',\n",
       " 'atom',\n",
       " 'atom_index',\n",
       " 'conformers',\n",
       " 'n_conformers',\n",
       " 'bonds',\n",
       " 'bond',\n",
       " 'angles',\n",
       " 'torsions',\n",
       " 'propers',\n",
       " 'impropers',\n",
       " 'smirnoff_impropers',\n",
       " 'amber_impropers',\n",
       " 'nth_degree_neighbors',\n",
       " 'total_charge',\n",
       " 'name',\n",
       " 'properties',\n",
       " 'hill_formula',\n",
       " 'to_hill_formula',\n",
       " '_object_to_hill_formula',\n",
       " 'chemical_environment_matches',\n",
       " 'from_iupac',\n",
       " 'to_iupac',\n",
       " 'from_topology',\n",
       " 'to_topology',\n",
       " 'from_file',\n",
       " 'from_polymer_pdb',\n",
       " '_has_multiple_molecules',\n",
       " '_to_xyz_file',\n",
       " 'to_file',\n",
       " 'enumerate_tautomers',\n",
       " 'enumerate_stereoisomers',\n",
       " 'enumerate_protomers',\n",
       " 'from_rdkit',\n",
       " 'to_rdkit',\n",
       " 'from_openeye',\n",
       " 'to_qcschema',\n",
       " 'from_mapped_smiles',\n",
       " 'from_qcschema',\n",
       " 'from_pdb_and_smiles',\n",
       " 'canonical_order_atoms',\n",
       " 'remap',\n",
       " 'to_openeye',\n",
       " '_construct_angles',\n",
       " '_construct_torsions',\n",
       " '_construct_bonded_atoms_list',\n",
       " '_is_bonded',\n",
       " 'get_bond_between',\n",
       " 'to_json',\n",
       " 'from_json',\n",
       " 'to_bson',\n",
       " 'from_bson',\n",
       " 'to_toml',\n",
       " 'from_toml',\n",
       " 'to_yaml',\n",
       " 'from_yaml',\n",
       " 'to_messagepack',\n",
       " 'from_messagepack',\n",
       " 'to_xml',\n",
       " 'from_xml',\n",
       " 'to_pickle',\n",
       " 'from_pickle',\n",
       " '__dict__',\n",
       " '__weakref__',\n",
       " '__slots__',\n",
       " '__new__',\n",
       " '__str__',\n",
       " '__getattribute__',\n",
       " '__setattr__',\n",
       " '__delattr__',\n",
       " '__lt__',\n",
       " '__le__',\n",
       " '__ne__',\n",
       " '__gt__',\n",
       " '__ge__',\n",
       " '__reduce_ex__',\n",
       " '__reduce__',\n",
       " '__getstate__',\n",
       " '__subclasshook__',\n",
       " '__init_subclass__',\n",
       " '__format__',\n",
       " '__sizeof__',\n",
       " '__class__']"
      ]
     },
     "execution_count": 8,
     "metadata": {},
     "output_type": "execute_result"
    }
   ],
   "source": [
    "molecules.__dir__()"
   ]
  },
  {
   "cell_type": "code",
   "execution_count": 15,
   "metadata": {},
   "outputs": [],
   "source": [
    "molecules.to_file('phenol.pdb',file_format='pdb')"
   ]
  },
  {
   "cell_type": "code",
   "execution_count": 16,
   "metadata": {},
   "outputs": [],
   "source": [
    "frag = PDBFile('phenol.pdb')\n",
    "\n",
    "pdb.topology, pdb.positions, ghosts = grand.utils.add_ghosts_fragment(pdb.topology,\n",
    "                                                                      pdb.positions,\n",
    "                                                                      fragment=frag,\n",
    "                                                                      n=10)"
   ]
  },
  {
   "cell_type": "code",
   "execution_count": null,
   "metadata": {},
   "outputs": [],
   "source": []
  },
  {
   "cell_type": "code",
   "execution_count": null,
   "metadata": {},
   "outputs": [],
   "source": []
  }
 ],
 "metadata": {
  "kernelspec": {
   "display_name": "gcncmc",
   "language": "python",
   "name": "python3"
  },
  "language_info": {
   "codemirror_mode": {
    "name": "ipython",
    "version": 3
   },
   "file_extension": ".py",
   "mimetype": "text/x-python",
   "name": "python",
   "nbconvert_exporter": "python",
   "pygments_lexer": "ipython3",
   "version": "3.12.3"
  }
 },
 "nbformat": 4,
 "nbformat_minor": 2
}
